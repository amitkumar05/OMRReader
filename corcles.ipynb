{
 "cells": [
  {
   "cell_type": "code",
   "execution_count": 8,
   "metadata": {
    "collapsed": true
   },
   "outputs": [],
   "source": [
    "from __future__ import print_function\n",
    "import cv2\n",
    "import sys\n",
    "import os\n",
    "import math\n",
    "from matplotlib import pyplot as plt\n",
    "import numpy as np\n",
    "import copy\n",
    "from scipy import arange\n",
    "INF=1e18\n",
    "\n",
    "def show(img,name=\"tmp.jpg\"):\n",
    "    cv2.imwrite(name,img)\n",
    "    if(name==\"tmp.jpg\"):\n",
    "        os.system(\"xdg-open tmp.jpg\")\n",
    "\n",
    "def checkc(xc,yc,circles,dist):\n",
    "    for (x,y,r) in circles:\n",
    "        if( (x-xc)**2+(y-yc)**2<dist**2):\n",
    "            return False\n",
    "    return True\n",
    "\n",
    "\n",
    "def hought(img,minref,minr,maxr,dist):\n",
    "    thres,resthres=cv2.threshold(img,150,255,cv2.THRESH_BINARY)\n",
    "    edges = cv2.Canny(resthres,200,255)\n",
    "    show(edges,\"edges.jpg\")\n",
    "    radius=[minr,maxr,1]\n",
    "    X,Y,c=img.shape\n",
    "    data=np.array([[[0]*(radius[1]-radius[0]+1)]*Y]*X)\n",
    "\n",
    "\n",
    "    # In[224]:\n",
    "\n",
    "    for i in range(X):\n",
    "        for j in range(Y):\n",
    "            if(edges[i][j]!=0):\n",
    "                for r in range(radius[0],radius[1],radius[2]):\n",
    "                    for x in range(i-r,i+r):\n",
    "                        if(x>=0 and x<X):\n",
    "                            ysq=r**2-(x-i)**2\n",
    "                            if(ysq>0):\n",
    "                                y=ysq**0.5+j\n",
    "                                y=int(y)\n",
    "                                if(0<=y<Y):\n",
    "                                    data[x][y][r-radius[0]]+=1\n",
    "\n",
    "    maxv=-1e18\n",
    "    ans=[0,0,0]\n",
    "    dt=[]\n",
    "    for i in range(X):\n",
    "        for j in range(Y):\n",
    "            for r in range(0,radius[1]-radius[0]+1,radius[2]):\n",
    "                dt.append([data[i][j][r],i,j,r])\n",
    "\n",
    "    dt=sorted(dt, key=lambda student: student[0],reverse=True)\n",
    "\n",
    "\n",
    "    circles=[]\n",
    "\n",
    "\n",
    "    for i in range(len(dt)):\n",
    "        if(dt[i][0]<minref):\n",
    "            break\n",
    "        if(checkc(dt[i][2],dt[i][1],circles,dist)):\n",
    "            circles.append([dt[i][2],dt[i][1],dt[i][3]+radius[0]])\n",
    "\n",
    "\n",
    "    return circles\n",
    "\n",
    "\n"
   ]
  },
  {
   "cell_type": "code",
   "execution_count": 9,
   "metadata": {
    "collapsed": false
   },
   "outputs": [],
   "source": [
    "img=cv2.imread(\"omr.jpg\")\n",
    "#def hought(img,minref,minr,maxr,dist):\n",
    "\n",
    "circles=hought(img,9,9,11,35)\n",
    "out=img.copy()\n",
    "for (x, y, r) in circles:\n",
    "    cv2.circle(out, (x, y), r, (0, 255, 0), 4)\n",
    "\n",
    "show(out)"
   ]
  },
  {
   "cell_type": "code",
   "execution_count": null,
   "metadata": {
    "collapsed": true
   },
   "outputs": [],
   "source": []
  }
 ],
 "metadata": {
  "kernelspec": {
   "display_name": "Python 2",
   "language": "python",
   "name": "python2"
  },
  "language_info": {
   "codemirror_mode": {
    "name": "ipython",
    "version": 2
   },
   "file_extension": ".py",
   "mimetype": "text/x-python",
   "name": "python",
   "nbconvert_exporter": "python",
   "pygments_lexer": "ipython2",
   "version": "2.7.12"
  }
 },
 "nbformat": 4,
 "nbformat_minor": 1
}
